{
 "cells": [
  {
   "cell_type": "code",
   "execution_count": 1,
   "metadata": {
    "collapsed": true
   },
   "outputs": [],
   "source": [
    "import matplotlib.pyplot as plt\n",
    "import numpy as np\n",
    "import random\n",
    "import csv"
   ]
  },
  {
   "cell_type": "markdown",
   "metadata": {
    "collapsed": true
   },
   "source": [
    "### Load data and processing"
   ]
  },
  {
   "cell_type": "code",
   "execution_count": 2,
   "metadata": {
    "collapsed": true
   },
   "outputs": [],
   "source": [
    "\n",
    "open_train_body = open('train_bodies.csv', 'r', encoding='utf-8')\n",
    "train_body = csv.DictReader(open_train_body)\n",
    "\n",
    "articles = []\n",
    "for i in train_body:\n",
    "    \n",
    "    bid = int(i['Body ID'])\n",
    "    if (bid + 1) > len(articles):   \n",
    "        articles += [None] * (bid + 1 - len(articles))\n",
    "    articles[bid] = i['articleBody']\n",
    "    \n",
    "open_train_body.close()\n",
    "\n",
    "\n",
    "\n",
    "\n",
    "data_unrelated =[]\n",
    "data_discuss = []\n",
    "data_agree = []\n",
    "data_disagree = []\n",
    "\n",
    "open_stances = open('train_stances.csv', 'r', encoding='utf-8')\n",
    "all_stances = csv.DictReader(open_stances)\n",
    "\n",
    "for i in all_stances:\n",
    "    \n",
    "    b = articles[int(i['Body ID'])]\n",
    "    if i['Stance'] == 'unrelated':\n",
    "        data_unrelated.append((i['Headline'], b, i['Stance']))\n",
    "    elif i['Stance'] == 'discuss':\n",
    "        data_discuss.append((i['Headline'], b, i['Stance']))\n",
    "    elif i['Stance'] == 'agree':\n",
    "        data_agree.append((i['Headline'], b, i['Stance']))\n",
    "    \n",
    "    elif i['Stance'] == 'disagree':\n",
    "        data_disagree.append((i['Headline'], b, i['Stance']))\n",
    "\n",
    "open_stances.close()"
   ]
  },
  {
   "cell_type": "code",
   "execution_count": 3,
   "metadata": {
    "collapsed": true
   },
   "outputs": [],
   "source": [
    "ind_b = {articles[i]: i for i in range(len(articles))}"
   ]
  },
  {
   "cell_type": "code",
   "execution_count": 4,
   "metadata": {},
   "outputs": [
    {
     "name": "stdout",
     "output_type": "stream",
     "text": [
      "840\n"
     ]
    }
   ],
   "source": [
    "#print(data_unrelated[0][0])   # headline\n",
    "#print(data_unrelated[0][1])   # body\n",
    "print(len(data_disagree))    # stance  [0][2]"
   ]
  },
  {
   "cell_type": "markdown",
   "metadata": {},
   "source": [
    "### Split data into training set and validation set"
   ]
  },
  {
   "cell_type": "code",
   "execution_count": 5,
   "metadata": {
    "collapsed": true
   },
   "outputs": [],
   "source": [
    "\n",
    "def split(inp):\n",
    "    train_len = int( len(inp) * 0.9)\n",
    "    train = inp[0:train_len]\n",
    "    val = inp[train_len:]\n",
    "    \n",
    "    return train,val\n",
    "\n",
    "\n",
    "agree_train, agree_val = split(data_agree)\n",
    "disagree_train, disagree_val = split(data_disagree)\n",
    "discuss_train,discuss_val = split(data_discuss)\n",
    "unrelated_train,unrelated_val = split(data_unrelated)\n"
   ]
  },
  {
   "cell_type": "code",
   "execution_count": 6,
   "metadata": {
    "collapsed": true
   },
   "outputs": [],
   "source": [
    "train_data = agree_train + disagree_train + discuss_train + unrelated_train   #order: agree, disgree, discuss, unrelated\n",
    "random.Random(0).shuffle(train_data)\n",
    "train_data = np.array(train_data)\n",
    "\n",
    "val_data = agree_val + disagree_val + discuss_val + unrelated_val\n",
    "random.Random(0).shuffle(val_data)\n",
    "val_data = np.array(val_data)"
   ]
  },
  {
   "cell_type": "code",
   "execution_count": 7,
   "metadata": {},
   "outputs": [
    {
     "name": "stdout",
     "output_type": "stream",
     "text": [
      "Proportion of agree:  8.994565217391305\n",
      "Proportion of disagree:  9.0\n",
      "Proportion of discuss:  8.998877665544333\n",
      "Proportion of unrelated:  8.998632010943913\n",
      "***********************************************\n",
      "\tAgree \tDisag \tDiscus \tUnrela \tAll\n",
      "FUll\t 3678 \t 840 \t 8909 \t 36545 \t 49972\n",
      "Train\t 3310 \t 756 \t 8018 \t 32890 \t 44974\n",
      "Val\t 368 \t 84 \t 891 \t 3655 \t 4998\n"
     ]
    }
   ],
   "source": [
    "print(\"Proportion of agree: \", len(agree_train)/len(agree_val))\n",
    "print(\"Proportion of disagree: \", len(disagree_train)/len(disagree_val))\n",
    "print(\"Proportion of discuss: \", len(discuss_train)/len(discuss_val))\n",
    "print(\"Proportion of unrelated: \", len(unrelated_train)/len(unrelated_val))\n",
    "\n",
    "print(\"***********************************************\")\n",
    "print('\\tAgree \\tDisag \\tDiscus \\tUnrela \\tAll')\n",
    "\n",
    "print('FUll\\t',len(data_agree), '\\t',len(data_disagree),'\\t', len(data_discuss),'\\t', len(data_unrelated), '\\t', np.shape(train_data)[0]+ np.shape(val_data)[0])\n",
    "print('Train\\t', len(agree_train), '\\t', len(disagree_train), '\\t', len(discuss_train), '\\t', len(unrelated_train),'\\t',np.shape(train_data)[0])\n",
    "print('Val\\t', len(agree_val), '\\t', len(disagree_val), '\\t', len(discuss_val), '\\t', len(unrelated_val),'\\t',np.shape(val_data)[0])\n"
   ]
  },
  {
   "cell_type": "code",
   "execution_count": null,
   "metadata": {
    "collapsed": true
   },
   "outputs": [],
   "source": []
  },
  {
   "cell_type": "code",
   "execution_count": null,
   "metadata": {
    "collapsed": true
   },
   "outputs": [],
   "source": []
  },
  {
   "cell_type": "markdown",
   "metadata": {},
   "source": [
    "### Vector representation and cosine similarity"
   ]
  },
  {
   "cell_type": "code",
   "execution_count": 8,
   "metadata": {},
   "outputs": [
    {
     "name": "stderr",
     "output_type": "stream",
     "text": [
      "400000it [00:06, 64400.19it/s]\n"
     ]
    }
   ],
   "source": [
    "from tqdm import tqdm\n",
    "# Use GLoVe representation\n",
    "glove = open(\"glove.6B.50d.txt\", \"rb\")  \n",
    "vector_g = {}\n",
    "for i in tqdm(glove):\n",
    "    vector_g[str(i.split()[0]).split(\"'\")[1]] = np.array(list(map(float, i.split()[1:])))\n"
   ]
  },
  {
   "cell_type": "code",
   "execution_count": 9,
   "metadata": {
    "collapsed": true
   },
   "outputs": [],
   "source": [
    "#process test data\n",
    "\n",
    "open_test_body = open('competition_test_bodies.csv', 'r', encoding='utf-8')\n",
    "test_body = csv.DictReader(open_test_body)\n",
    "\n",
    "articlestest = []\n",
    "for i in test_body:\n",
    "    \n",
    "    bid = int(i['Body ID'])\n",
    "    if (bid + 1) > len(articlestest):   \n",
    "        articlestest += [None] * (bid + 1 - len(articlestest))\n",
    "    articlestest[bid] = i['articleBody']\n",
    "    \n",
    "open_test_body.close()\n",
    "\n",
    "\n",
    "testdata_unrelated =[]\n",
    "testdata_discuss = []\n",
    "testdata_agree = []\n",
    "testdata_disagree = []\n",
    "\n",
    "testopen_stances = open('competition_test_stances.csv', 'r', encoding='utf-8')\n",
    "testall_stances = csv.DictReader(testopen_stances)\n",
    "\n",
    "for i in testall_stances:\n",
    "    \n",
    "    b = articlestest[int(i['Body ID'])]\n",
    "    if i['Stance'] == 'unrelated':\n",
    "        testdata_unrelated.append((i['Headline'], b, i['Stance']))\n",
    "    elif i['Stance'] == 'discuss':\n",
    "        testdata_discuss.append((i['Headline'], b, i['Stance']))\n",
    "    elif i['Stance'] == 'agree':\n",
    "        testdata_agree.append((i['Headline'], b, i['Stance']))\n",
    "    \n",
    "    elif i['Stance'] == 'disagree':\n",
    "        testdata_disagree.append((i['Headline'], b, i['Stance']))\n",
    "\n",
    "testopen_stances.close()"
   ]
  },
  {
   "cell_type": "code",
   "execution_count": 10,
   "metadata": {
    "collapsed": true
   },
   "outputs": [],
   "source": [
    "test_ind_b = {articlestest[i]: i for i in range(len(articlestest))}"
   ]
  },
  {
   "cell_type": "code",
   "execution_count": 11,
   "metadata": {
    "collapsed": true
   },
   "outputs": [],
   "source": [
    "test_data = testdata_agree + testdata_disagree + testdata_discuss + testdata_unrelated   #order: agree, disgree, discuss, unrelated\n",
    "random.Random(0).shuffle(test_data)\n",
    "test_data = np.array(test_data)\n"
   ]
  },
  {
   "cell_type": "code",
   "execution_count": 12,
   "metadata": {},
   "outputs": [
    {
     "name": "stdout",
     "output_type": "stream",
     "text": [
      "25413\n"
     ]
    }
   ],
   "source": [
    "print(test_data.shape[0])"
   ]
  },
  {
   "cell_type": "code",
   "execution_count": null,
   "metadata": {
    "collapsed": true
   },
   "outputs": [],
   "source": []
  },
  {
   "cell_type": "code",
   "execution_count": 13,
   "metadata": {
    "collapsed": true
   },
   "outputs": [],
   "source": [
    "#form corpus by combining train, validation and test data\n",
    "C = np.r_[train_data[:, 1], train_data[:, 0],val_data[:, 1], val_data[:, 0],test_data[:, 1], test_data[:, 0]]  "
   ]
  },
  {
   "cell_type": "code",
   "execution_count": 14,
   "metadata": {
    "collapsed": true
   },
   "outputs": [],
   "source": [
    "from sklearn.feature_extraction.text import CountVectorizer, TfidfVectorizer"
   ]
  },
  {
   "cell_type": "code",
   "execution_count": 15,
   "metadata": {
    "collapsed": true
   },
   "outputs": [],
   "source": [
    "V_tfidf = TfidfVectorizer(stop_words='english')\n",
    "tfidf = V_tfidf.fit_transform(C)\n",
    "# Create index of column indices in tf_idf -> word\n",
    "tfidf_mapping = {i[1]: i[0] for i in V_tfidf.vocabulary_.items()}"
   ]
  },
  {
   "cell_type": "code",
   "execution_count": 16,
   "metadata": {},
   "outputs": [
    {
     "name": "stdout",
     "output_type": "stream",
     "text": [
      "(150770, 29148)\n"
     ]
    }
   ],
   "source": [
    "print(tfidf.shape)  #"
   ]
  },
  {
   "cell_type": "code",
   "execution_count": 17,
   "metadata": {
    "collapsed": true
   },
   "outputs": [],
   "source": [
    "# this function convert documents to vectors\n",
    "def doc_to_vector(d):\n",
    "    \n",
    "    documents = V_tfidf.transform([d])\n",
    "    \n",
    "    _, ind = documents[0].nonzero()\n",
    "    outputs = np.array([0.0] * 50)\n",
    "    total = 0\n",
    "    \n",
    "    for i in ind:\n",
    "        w = tfidf_mapping[i]\n",
    "        if w in vector_g:\n",
    "            outputs += vector_g[w] * documents[0, i]\n",
    "            total += documents[0, i]\n",
    "    outputs /= total\n",
    "    \n",
    "    return outputs\n",
    "\n"
   ]
  },
  {
   "cell_type": "code",
   "execution_count": 18,
   "metadata": {},
   "outputs": [
    {
     "name": "stdout",
     "output_type": "stream",
     "text": [
      "UK spies identify Foley’s killer, Abdel-Majed Abdel Bary a key suspect\n",
      "[-0.08676952 -0.07428999  0.19578008  0.11451261  0.51394369 -0.14461766\n",
      " -0.28815765  0.12675044  0.10860505  0.14668026  0.26397496  0.2061046\n",
      " -0.44428977  0.40140098  0.13119332 -0.16166526 -0.07760272 -0.30664819\n",
      "  0.20275505  0.39050331 -0.22558035  0.41765185  0.51413314  0.28447866\n",
      " -0.3131521  -1.11402264  0.07045213 -0.32427004  0.22081831  0.03088698\n",
      "  0.9422806  -0.46842919 -0.50857077 -0.28569984  0.60048897  0.14271825\n",
      "  0.05295646 -0.00945297 -0.080992    0.61298732 -0.00902879  0.38732832\n",
      "  0.24368407 -0.04531722  0.81273493 -0.35468004 -0.51126964  0.26762985\n",
      "  0.47696889 -0.09036701]\n"
     ]
    }
   ],
   "source": [
    "print(train_data[0][0])\n",
    "print(doc_to_vector(train_data[0][0]))"
   ]
  },
  {
   "cell_type": "code",
   "execution_count": 19,
   "metadata": {
    "collapsed": true
   },
   "outputs": [],
   "source": [
    "from scipy.spatial.distance import cosine\n",
    "# this function is used to compute cosine similarity \n",
    "def COS(d):\n",
    "    cos = cosine(doc_to_vector(d[0]), doc_to_vector(d[1]))\n",
    "    similarity = 1.0 - cos\n",
    "    \n",
    "    return similarity\n"
   ]
  },
  {
   "cell_type": "code",
   "execution_count": 20,
   "metadata": {
    "collapsed": true
   },
   "outputs": [],
   "source": [
    "def calculation(d,f):\n",
    "    \n",
    "    output = f(d)\n",
    "    return output"
   ]
  },
  {
   "cell_type": "code",
   "execution_count": 21,
   "metadata": {},
   "outputs": [
    {
     "name": "stderr",
     "output_type": "stream",
     "text": [
      "100%|██████████| 44974/44974 [07:35<00:00, 98.72it/s]\n"
     ]
    }
   ],
   "source": [
    "# calculate cosine similarity of all headlines and bodies\n",
    "cosine_similarity = np.array([calculation(d,COS) for d in tqdm(train_data)])"
   ]
  },
  {
   "cell_type": "code",
   "execution_count": 22,
   "metadata": {},
   "outputs": [
    {
     "data": {
      "text/plain": [
       "(44974,)"
      ]
     },
     "execution_count": 22,
     "metadata": {},
     "output_type": "execute_result"
    }
   ],
   "source": [
    "cosine_similarity.shape"
   ]
  },
  {
   "cell_type": "code",
   "execution_count": 23,
   "metadata": {},
   "outputs": [
    {
     "name": "stdout",
     "output_type": "stream",
     "text": [
      "(44974,)\n"
     ]
    }
   ],
   "source": [
    "from sklearn.preprocessing import LabelEncoder\n",
    "encoder = LabelEncoder()\n",
    "labels = encoder.fit_transform(list(train_data[:, 2]))\n",
    "print(labels.shape)"
   ]
  },
  {
   "cell_type": "code",
   "execution_count": 24,
   "metadata": {},
   "outputs": [
    {
     "data": {
      "text/plain": [
       "array([3, 3, 3, 2, 3, 3, 3, 3, 3, 3, 3, 3, 3, 3, 3, 3, 3, 0, 1, 3, 3, 3,\n",
       "       3, 3, 3, 3, 3, 3, 3, 3, 3, 3, 3, 3, 3, 3, 3, 3, 3, 3, 2, 3, 2, 3,\n",
       "       3, 3, 3, 3, 3, 3])"
      ]
     },
     "execution_count": 24,
     "metadata": {},
     "output_type": "execute_result"
    }
   ],
   "source": [
    "labels[0:50]"
   ]
  },
  {
   "cell_type": "code",
   "execution_count": null,
   "metadata": {
    "collapsed": true
   },
   "outputs": [],
   "source": []
  },
  {
   "cell_type": "code",
   "execution_count": 25,
   "metadata": {
    "collapsed": true
   },
   "outputs": [],
   "source": [
    "cos_agree = []\n",
    "cos_disagree = []\n",
    "cos_discuss = []\n",
    "cos_unrelated = []\n",
    "for i in range(labels.shape[0]):\n",
    "    if labels[i] == 0:\n",
    "        cos_agree.append(cosine_similarity[i])\n",
    "    elif labels[i] == 1:\n",
    "        cos_disagree.append(cosine_similarity[i])\n",
    "    elif labels[i] == 2:\n",
    "        cos_discuss.append(cosine_similarity[i])\n",
    "    elif labels[i] == 3:\n",
    "        cos_unrelated.append(cosine_similarity[i])\n",
    "        \n",
    "     "
   ]
  },
  {
   "cell_type": "code",
   "execution_count": 26,
   "metadata": {},
   "outputs": [
    {
     "data": {
      "text/plain": [
       "8018"
      ]
     },
     "execution_count": 26,
     "metadata": {},
     "output_type": "execute_result"
    }
   ],
   "source": [
    "len(cos_discuss)"
   ]
  },
  {
   "cell_type": "code",
   "execution_count": 27,
   "metadata": {
    "scrolled": true
   },
   "outputs": [
    {
     "data": {
      "image/png": "[encoded data removed]",
      "text/plain": [
       "<matplotlib.figure.Figure at 0x10e602588>"
      ]
     },
     "metadata": {},
     "output_type": "display_data"
    }
   ],
   "source": [
    "import seaborn as sns\n",
    "plt.figure(figsize=(20,10))\n",
    "plt.ylim((0, 6))\n",
    "sns.kdeplot(cos_agree, label='agree')\n",
    "sns.kdeplot(cos_disagree, label='disagree')\n",
    "sns.kdeplot(cos_discuss, label='discuss')\n",
    "sns.kdeplot(cos_unrelated, label='unrelated')\n",
    "plt.show()"
   ]
  },
  {
   "cell_type": "code",
   "execution_count": 28,
   "metadata": {
    "collapsed": true
   },
   "outputs": [],
   "source": [
    "from sklearn.feature_extraction.text import CountVectorizer, TfidfVectorizer \n"
   ]
  },
  {
   "cell_type": "code",
   "execution_count": null,
   "metadata": {
    "collapsed": true
   },
   "outputs": [],
   "source": []
  },
  {
   "cell_type": "code",
   "execution_count": null,
   "metadata": {
    "collapsed": true
   },
   "outputs": [],
   "source": []
  },
  {
   "cell_type": "code",
   "execution_count": null,
   "metadata": {
    "collapsed": true
   },
   "outputs": [],
   "source": []
  },
  {
   "cell_type": "markdown",
   "metadata": {
    "collapsed": true
   },
   "source": [
    "### Language Model and KL-divergence "
   ]
  },
  {
   "cell_type": "code",
   "execution_count": 29,
   "metadata": {
    "collapsed": true
   },
   "outputs": [],
   "source": [
    "# this function defines language model\n",
    "def language_model(data, b, m):\n",
    "\n",
    "    model = np.zeros([len(m), len(m)])\n",
    "    \n",
    "    a = b.sum() / len(data)\n",
    "    \n",
    "    for i in range(len(m)):\n",
    "        count = len(data.iloc[1])\n",
    "        c = m[i].sum()\n",
    "        model[i] = count / (a + count) * m[i] / c + a / (a + count) * b\n",
    "        \n",
    "    return model"
   ]
  },
  {
   "cell_type": "code",
   "execution_count": 30,
   "metadata": {
    "collapsed": true
   },
   "outputs": [],
   "source": [
    "# this function calculate kl divergence\n",
    "def entropy(head_lm, body_lm):\n",
    "    output = 0\n",
    "    for i in range(head_lm.shape[0]):  \n",
    "        output += head_lm[i] * np.log(head_lm[i] / body_lm[i])\n",
    "        \n",
    "    return output\n",
    "\n",
    "\n",
    "def kl(d):\n",
    "    cv = CountVectorizer(stop_words='english')\n",
    "    V_data = cv.fit_transform([d[0], d[1]])\n",
    "    head_v = np.squeeze(np.array(V_data[0].todense()))\n",
    "    body_v = np.squeeze(np.array(V_data[1].todense()))\n",
    "    \n",
    "    H = (head_v + 0.1) / np.sum(head_v)  # add a small value for smoothing.\n",
    "    B = (body_v + 0.1) / np.sum(body_v)\n",
    "    \n",
    "    output = entropy(H,B)\n",
    "    return output\n",
    "\n"
   ]
  },
  {
   "cell_type": "code",
   "execution_count": 31,
   "metadata": {},
   "outputs": [
    {
     "name": "stderr",
     "output_type": "stream",
     "text": [
      "100%|██████████| 44974/44974 [01:18<00:00, 574.84it/s]\n"
     ]
    }
   ],
   "source": [
    "# calculate kl divergence of all headlines and bodies\n",
    "kl_divergence = np.array([calculation(d,kl) for d in tqdm(train_data)])"
   ]
  },
  {
   "cell_type": "code",
   "execution_count": null,
   "metadata": {
    "collapsed": true
   },
   "outputs": [],
   "source": []
  },
  {
   "cell_type": "code",
   "execution_count": 32,
   "metadata": {
    "collapsed": true
   },
   "outputs": [],
   "source": [
    "kl_agree = []\n",
    "kl_disagree = []\n",
    "kl_discuss = []\n",
    "kl_unrelated = []\n",
    "\n",
    "for i in range(labels.shape[0]):\n",
    "    if labels[i] == 0:\n",
    "        kl_agree.append(kl_divergence[i])\n",
    "    elif labels[i] == 1:\n",
    "        kl_disagree.append(kl_divergence[i])\n",
    "    elif labels[i] == 2:\n",
    "        kl_discuss.append(kl_divergence[i])\n",
    "    elif labels[i] == 3:\n",
    "        kl_unrelated.append(kl_divergence[i])"
   ]
  },
  {
   "cell_type": "code",
   "execution_count": 33,
   "metadata": {},
   "outputs": [
    {
     "data": {
      "image/png": "[encoded data removed]",
      "text/plain": [
       "<matplotlib.figure.Figure at 0xa07b82d68>"
      ]
     },
     "metadata": {},
     "output_type": "display_data"
    }
   ],
   "source": [
    "plt.figure(figsize=(20,15))\n",
    "plt.ylim((0, 1.3))\n",
    "sns.kdeplot(kl_agree, label='agree')\n",
    "sns.kdeplot(kl_disagree, label='disagree')\n",
    "sns.kdeplot(kl_discuss, label='discuss')\n",
    "sns.kdeplot(kl_unrelated, label='unrelated')\n",
    "plt.show()"
   ]
  },
  {
   "cell_type": "code",
   "execution_count": null,
   "metadata": {
    "collapsed": true
   },
   "outputs": [],
   "source": []
  },
  {
   "cell_type": "markdown",
   "metadata": {},
   "source": [
    "### Alternative features"
   ]
  },
  {
   "cell_type": "code",
   "execution_count": null,
   "metadata": {
    "collapsed": true
   },
   "outputs": [],
   "source": []
  },
  {
   "cell_type": "code",
   "execution_count": 34,
   "metadata": {
    "collapsed": true
   },
   "outputs": [],
   "source": [
    "# this function calculate n-gram\n",
    "def n_gram(d):\n",
    "    cv = CountVectorizer(stop_words='english', ngram_range=(1, 3))\n",
    "    cv.fit([d[0]])\n",
    "    b_v = cv.transform([d[1]])\n",
    "    \n",
    "    res = np.sum(b_v) / len(d[1])\n",
    "    res1 = 1 / np.e\n",
    "    f = np.power(res, res1)\n",
    "    return f\n",
    "    \n"
   ]
  },
  {
   "cell_type": "code",
   "execution_count": 35,
   "metadata": {},
   "outputs": [
    {
     "name": "stderr",
     "output_type": "stream",
     "text": [
      "100%|██████████| 44974/44974 [01:16<00:00, 591.65it/s]\n"
     ]
    }
   ],
   "source": [
    "# calculate n-gram of all headlines and bodies\n",
    "ngram_f = np.array([calculation(d,n_gram) for d in tqdm(train_data)])"
   ]
  },
  {
   "cell_type": "code",
   "execution_count": 36,
   "metadata": {
    "collapsed": true
   },
   "outputs": [],
   "source": [
    "ngram_agree = []\n",
    "ngram_disagree = []\n",
    "ngram_discuss = []\n",
    "ngram_unrelated = []\n",
    "\n",
    "for i in range(labels.shape[0]):\n",
    "    if labels[i] == 0:\n",
    "        ngram_agree.append(ngram_f[i])\n",
    "    elif labels[i] == 1:\n",
    "        ngram_disagree.append(ngram_f[i])\n",
    "    elif labels[i] == 2:\n",
    "        ngram_discuss.append(ngram_f[i])\n",
    "    elif labels[i] == 3:\n",
    "        ngram_unrelated.append(ngram_f[i])"
   ]
  },
  {
   "cell_type": "code",
   "execution_count": 37,
   "metadata": {},
   "outputs": [
    {
     "data": {
      "image/png": "[encoded data removed]",
      "text/plain": [
       "<matplotlib.figure.Figure at 0xa07ab3898>"
      ]
     },
     "metadata": {},
     "output_type": "display_data"
    }
   ],
   "source": [
    "plt.figure(figsize=(20,15))\n",
    "plt.ylim((0, 55))\n",
    "sns.kdeplot(ngram_agree, label='agree')\n",
    "sns.kdeplot(ngram_disagree, label='disagree')\n",
    "sns.kdeplot(ngram_discuss, label='discuss')\n",
    "sns.kdeplot(ngram_unrelated, label='unrelated')\n",
    "plt.show()"
   ]
  },
  {
   "cell_type": "code",
   "execution_count": 38,
   "metadata": {
    "collapsed": true
   },
   "outputs": [],
   "source": [
    "from vaderSentiment.vaderSentiment import SentimentIntensityAnalyzer\n",
    "ana = SentimentIntensityAnalyzer()"
   ]
  },
  {
   "cell_type": "code",
   "execution_count": 39,
   "metadata": {
    "collapsed": true
   },
   "outputs": [],
   "source": [
    "\n",
    "def feature2(d):\n",
    "    output = np.absolute(ana.polarity_scores(d[0])['compound'] - ana.polarity_scores(d[1])['compound'])\n",
    "    return output"
   ]
  },
  {
   "cell_type": "code",
   "execution_count": 40,
   "metadata": {},
   "outputs": [
    {
     "name": "stderr",
     "output_type": "stream",
     "text": [
      "100%|██████████| 44974/44974 [03:17<00:00, 227.55it/s]\n"
     ]
    }
   ],
   "source": [
    "f2 = np.array([calculation(d,feature2) for d in tqdm(train_data)])"
   ]
  },
  {
   "cell_type": "code",
   "execution_count": 41,
   "metadata": {
    "collapsed": true
   },
   "outputs": [],
   "source": [
    "f2_agree = []\n",
    "f2_disagree = []\n",
    "f2_discuss = []\n",
    "f2_unrelated = []\n",
    "\n",
    "for i in range(labels.shape[0]):\n",
    "    if labels[i] == 0:\n",
    "        f2_agree.append(f2[i])\n",
    "    elif labels[i] == 1:\n",
    "        f2_disagree.append(f2[i])\n",
    "    elif labels[i] == 2:\n",
    "        f2_discuss.append(f2[i])\n",
    "    elif labels[i] == 3:\n",
    "        f2_unrelated.append(f2[i])"
   ]
  },
  {
   "cell_type": "code",
   "execution_count": 42,
   "metadata": {},
   "outputs": [
    {
     "data": {
      "image/png": "[encoded data removed]",
      "text/plain": [
       "<matplotlib.figure.Figure at 0xa0891e080>"
      ]
     },
     "metadata": {},
     "output_type": "display_data"
    }
   ],
   "source": [
    "plt.figure(figsize=(20,15))\n",
    "plt.ylim((0, 1.8))\n",
    "sns.kdeplot(f2_agree, label='agree')\n",
    "sns.kdeplot(f2_disagree, label='disagree')\n",
    "sns.kdeplot(f2_discuss, label='discuss')\n",
    "sns.kdeplot(f2_unrelated, label='unrelated')\n",
    "plt.show()"
   ]
  },
  {
   "cell_type": "code",
   "execution_count": null,
   "metadata": {
    "collapsed": true
   },
   "outputs": [],
   "source": []
  },
  {
   "cell_type": "markdown",
   "metadata": {},
   "source": [
    "### Logistic regression"
   ]
  },
  {
   "cell_type": "code",
   "execution_count": 43,
   "metadata": {
    "collapsed": true
   },
   "outputs": [],
   "source": [
    "def sigmoid(x):\n",
    "    out = 1. / (1 + np.exp(-x))\n",
    "    return out\n",
    "    \n",
    "def softmax(x):\n",
    "    mx = np.amax(x,axis=1,keepdims = True)\n",
    "    x_exp = np.exp(x - mx)\n",
    "    x_sum = np.sum(x_exp, axis = 1, keepdims = True)\n",
    "    res = x_exp / x_sum\n",
    "    return res\n"
   ]
  },
  {
   "cell_type": "code",
   "execution_count": 43,
   "metadata": {
    "collapsed": true
   },
   "outputs": [],
   "source": [
    "class LR():\n",
    "    \n",
    "    def __init__(self, C = 1, lr=0.01, n_iteration=100, batch_size=100):\n",
    "        \n",
    "        self.C = C\n",
    "        self.lr = lr\n",
    "        self.n_iteration = n_iteration\n",
    "        self.batch_size = batch_size\n",
    "        self.w = []\n",
    "        self.b = []\n",
    "        \n",
    "    \n",
    "    \n",
    "    def train(self, x, y):\n",
    "        \n",
    "        s1 = x.shape[0]\n",
    "        s2 = X.shape[1]\n",
    "        w = np.zeros([s1, 1])\n",
    "        b = 0\n",
    "        \n",
    "        batch = []\n",
    "        for i in range(self.batch_size ):\n",
    "            s = i * self.batch_size\n",
    "            f = (i + 1) * self.batch_size\n",
    "            \n",
    "            batch.append(range(s, f))\n",
    "            \n",
    "        \n",
    "        s = (self.n_batch - 1) * self.batch_size\n",
    "        f = s2\n",
    "        \n",
    "        batch.append(range(s, f))\n",
    "            \n",
    "        for i in range(self.n_iteration):\n",
    "            l = 0\n",
    "            \n",
    "            for j in range(self.n_batch):\n",
    "                \n",
    "                x_t = x[batch[j]]\n",
    "                y_t = y[batch[j]]\n",
    "                \n",
    "                s = x_t.shape[0]\n",
    "                al = np.dot(x_t, w) + b\n",
    "                d = sigmoid(al)\n",
    "                \n",
    "                loss = 0.5 * ((- y_t) * np.log(d) - (1-y_t) * sum(np.log(1 - d))) + 1/2 * self.C * sum(np.square(w))\n",
    "                dd = np.average(d - y_t)\n",
    "                g_w = (np.average((x_t * (d - y_t)), axis=0)).reshape(-1,1) + self.C * w\n",
    "                g_b = dz\n",
    "                w = w - self.lr * g_w\n",
    "                b = b - self.lr * g_b\n",
    "                \n",
    "                l += loss\n",
    "            l  = l/ s2\n",
    "\n",
    "        return w, b\n",
    "            \n",
    "        \n",
    "    def fit(self, x, y):\n",
    "        self.w = []\n",
    "        self.b = []\n",
    "        num = y.shape[1]\n",
    "        for i in range(num):\n",
    "            w, b = self.train(x, y[:,i].reshape(-1,1))\n",
    "            self.w.append(w)\n",
    "            self.b.append(b)\n",
    "                \n",
    "    \n",
    "    def predict(self, x):\n",
    "        out = np.zeros_like(p)\n",
    "        m = p.argmax(axis=1)\n",
    "        for i in range(x.shape[0]):\n",
    "            out[i][m[i]] = 1\n",
    "            \n",
    "        return out\n",
    "    "
   ]
  },
  {
   "cell_type": "code",
   "execution_count": null,
   "metadata": {
    "collapsed": true
   },
   "outputs": [],
   "source": []
  },
  {
   "cell_type": "code",
   "execution_count": 44,
   "metadata": {},
   "outputs": [
    {
     "name": "stderr",
     "output_type": "stream",
     "text": [
      "100%|██████████| 44974/44974 [09:59<00:00, 74.97it/s]\n"
     ]
    }
   ],
   "source": [
    "functions = [COS, kl, n_gram]\n",
    "\n",
    "def make_features(d):\n",
    "    output = np.array([0.0] * len(functions))\n",
    "    for i in range(len(functions)):\n",
    "        output[i] = functions[i](d)\n",
    "        \n",
    "    return output\n",
    "\n",
    "#training set\n",
    "training = np.array([make_features(d) for d in tqdm(train_data)])\n"
   ]
  },
  {
   "cell_type": "code",
   "execution_count": 45,
   "metadata": {},
   "outputs": [
    {
     "name": "stdout",
     "output_type": "stream",
     "text": [
      "[[0.62002921 1.16514479 0.04003387]\n",
      " [0.71510993 1.52449986 0.        ]\n",
      " [0.65809856 2.11522406 0.10452378]\n",
      " [0.87445548 0.47428184 0.14913028]\n",
      " [0.72389466 1.34724005 0.        ]\n",
      " [0.74238242 1.567045   0.        ]\n",
      " [0.59763309 2.10423226 0.        ]\n",
      " [0.79358543 1.76109303 0.        ]\n",
      " [0.71847206 1.08183975 0.        ]\n",
      " [0.54784081 1.77695722 0.        ]]\n"
     ]
    }
   ],
   "source": [
    "print(training[:10])"
   ]
  },
  {
   "cell_type": "code",
   "execution_count": 47,
   "metadata": {},
   "outputs": [
    {
     "name": "stderr",
     "output_type": "stream",
     "text": [
      "100%|██████████| 4998/4998 [01:11<00:00, 70.01it/s]\n"
     ]
    }
   ],
   "source": [
    "#validation set\n",
    "testing = np.array([make_features(d) for d in tqdm(val_data)])"
   ]
  },
  {
   "cell_type": "code",
   "execution_count": 46,
   "metadata": {
    "collapsed": true
   },
   "outputs": [],
   "source": [
    "from sklearn.linear_model import LogisticRegression as LR"
   ]
  },
  {
   "cell_type": "code",
   "execution_count": 48,
   "metadata": {},
   "outputs": [
    {
     "data": {
      "text/plain": [
       "LogisticRegression(C=100.0, class_weight=None, dual=False, fit_intercept=True,\n",
       "          intercept_scaling=1, max_iter=100, multi_class='multinomial',\n",
       "          n_jobs=1, penalty='l2', random_state=0, solver='saga',\n",
       "          tol=0.0001, verbose=0, warm_start=False)"
      ]
     },
     "execution_count": 48,
     "metadata": {},
     "output_type": "execute_result"
    }
   ],
   "source": [
    "clf = LR(C=1e2, random_state=0, multi_class='multinomial', solver='saga')\n",
    "clf.fit(training, labels)"
   ]
  },
  {
   "cell_type": "code",
   "execution_count": null,
   "metadata": {
    "collapsed": true
   },
   "outputs": [],
   "source": []
  },
  {
   "cell_type": "code",
   "execution_count": 45,
   "metadata": {},
   "outputs": [
    {
     "ename": "NameError",
     "evalue": "name 'clf' is not defined",
     "output_type": "error",
     "traceback": [
      "\u001b[0;31m---------------------------------------------------------------------------\u001b[0m",
      "\u001b[0;31mNameError\u001b[0m                                 Traceback (most recent call last)",
      "\u001b[0;32m<ipython-input-45-8f5cd6879a83>\u001b[0m in \u001b[0;36m<module>\u001b[0;34m()\u001b[0m\n\u001b[0;32m----> 1\u001b[0;31m \u001b[0mpredict2\u001b[0m \u001b[0;34m=\u001b[0m \u001b[0mclf\u001b[0m\u001b[0;34m.\u001b[0m\u001b[0mpredict\u001b[0m\u001b[0;34m(\u001b[0m\u001b[0mtesting\u001b[0m\u001b[0;34m)\u001b[0m\u001b[0;34m\u001b[0m\u001b[0m\n\u001b[0m",
      "\u001b[0;31mNameError\u001b[0m: name 'clf' is not defined"
     ]
    }
   ],
   "source": [
    "predict2 = clf.predict(testing)"
   ]
  },
  {
   "cell_type": "code",
   "execution_count": 50,
   "metadata": {},
   "outputs": [
    {
     "data": {
      "text/plain": [
       "array([3, 3, 2, ..., 2, 3, 3])"
      ]
     },
     "execution_count": 50,
     "metadata": {},
     "output_type": "execute_result"
    }
   ],
   "source": [
    "predict2"
   ]
  },
  {
   "cell_type": "code",
   "execution_count": 51,
   "metadata": {},
   "outputs": [
    {
     "name": "stderr",
     "output_type": "stream",
     "text": [
      "/Applications/anaconda3/lib/python3.6/site-packages/sklearn/preprocessing/label.py:151: DeprecationWarning: The truth value of an empty array is ambiguous. Returning False, but in future this will result in an error. Use `array.size > 0` to check that an array is not empty.\n",
      "  if diff:\n"
     ]
    }
   ],
   "source": [
    "p = encoder.inverse_transform(predict2)\n",
    "bid = [str(ind_b[i]) for i in val_data[:, 1]]\n",
    "n1 = np.array([{'Headline': val_data[i, 0], 'Body ID': bid[i], 'Stance': p[i]} for i in range(len(val_data))])\n",
    "n2 = np.array([{'Headline': val_data[i, 0], 'Body ID': bid[i], 'Stance': val_data[i, 2]} for i in range(len(val_data))])"
   ]
  },
  {
   "cell_type": "code",
   "execution_count": 54,
   "metadata": {},
   "outputs": [
    {
     "data": {
      "text/plain": [
       "array([{'Headline': 'No, Banksy hasn’t been arrested', 'Body ID': '1544', 'Stance': 'unrelated'},\n",
       "       {'Headline': 'Experts: More facts needed on purported audio recording of Michael Brown shooting', 'Body ID': '456', 'Stance': 'unrelated'},\n",
       "       {'Headline': \"Urgent: The Leader of ISIL 'Abu Bakr al-Baghdadi' Killed! / Photo\", 'Body ID': '1645', 'Stance': 'discuss'},\n",
       "       ...,\n",
       "       {'Headline': \"Penis Drawn On Bugatti Veyron Could Be World's Most Expensive Car Vandalism\", 'Body ID': '2369', 'Stance': 'agree'},\n",
       "       {'Headline': 'Kurds fear Isis use of chemical weapon in Kobani', 'Body ID': '2280', 'Stance': 'unrelated'},\n",
       "       {'Headline': \"'Spiderman' squished: Perth experts debunk spider burrowing claims\", 'Body ID': '43', 'Stance': 'unrelated'}],\n",
       "      dtype=object)"
      ]
     },
     "execution_count": 54,
     "metadata": {},
     "output_type": "execute_result"
    }
   ],
   "source": [
    "n2"
   ]
  },
  {
   "cell_type": "code",
   "execution_count": null,
   "metadata": {
    "collapsed": true
   },
   "outputs": [],
   "source": []
  },
  {
   "cell_type": "code",
   "execution_count": 52,
   "metadata": {},
   "outputs": [
    {
     "name": "stdout",
     "output_type": "stream",
     "text": [
      "CONFUSION MATRIX:\n",
      "-------------------------------------------------------------\n",
      "|           |   agree   | disagree  |  discuss  | unrelated |\n",
      "-------------------------------------------------------------\n",
      "|   agree   |     0     |     0     |    340    |    28     |\n",
      "-------------------------------------------------------------\n",
      "| disagree  |     0     |     0     |    72     |    12     |\n",
      "-------------------------------------------------------------\n",
      "|  discuss  |     1     |     0     |    820    |    70     |\n",
      "-------------------------------------------------------------\n",
      "| unrelated |     0     |     0     |    67     |   3588    |\n",
      "-------------------------------------------------------------\n",
      "ACCURACY: 0.882\n",
      "\n",
      "MAX  - the best possible score (100% accuracy)\n",
      "NULL - score as if all predicted stances were unrelated\n",
      "TEST - score based on the provided predictions\n",
      "\n",
      "||    MAX    ||    NULL   ||    TEST   ||\n",
      "||  2256.75  ||  913.75   ||  1820.25  ||\n",
      "\n"
     ]
    }
   ],
   "source": [
    "from scorer import score_submission, print_confusion_matrix, score_defaults, SCORE_REPORT\n",
    "test_score, cm = score_submission(n2, n1)\n",
    "null_score, max_score = score_defaults(n2)\n",
    "print_confusion_matrix(cm)\n",
    "print(SCORE_REPORT.format(max_score, null_score, test_score))"
   ]
  },
  {
   "cell_type": "code",
   "execution_count": null,
   "metadata": {
    "collapsed": true
   },
   "outputs": [],
   "source": []
  },
  {
   "cell_type": "code",
   "execution_count": null,
   "metadata": {
    "collapsed": true
   },
   "outputs": [],
   "source": []
  },
  {
   "cell_type": "code",
   "execution_count": null,
   "metadata": {
    "collapsed": true
   },
   "outputs": [],
   "source": []
  },
  {
   "cell_type": "markdown",
   "metadata": {},
   "source": [
    "### Linear regression"
   ]
  },
  {
   "cell_type": "code",
   "execution_count": null,
   "metadata": {
    "collapsed": true
   },
   "outputs": [],
   "source": []
  },
  {
   "cell_type": "code",
   "execution_count": 327,
   "metadata": {
    "collapsed": true
   },
   "outputs": [],
   "source": [
    "class linear_regression():\n",
    "    \n",
    "    def __init__(self, C = 1, lr = 0.01, n_iteration=100, batch_size=100):\n",
    "        \n",
    "        self.C = C\n",
    "        self.lr = lr\n",
    "        self.n_iteration = n_iteration\n",
    "        self.batch_size = batch_size\n",
    "        self.w = 0\n",
    "        self.b = 0\n",
    "        \n",
    "    def train(self, x, y):\n",
    "        \n",
    "        s1 = x.shape[0]\n",
    "        s2 = x.shape[1]\n",
    "        self.w = np.random.random([s1,1])\n",
    "        self.b = 0\n",
    "        \n",
    "        batch = []\n",
    "        \n",
    "        for i in range(self.n_batch - 1):\n",
    "            s = i * self.batch_size\n",
    "            f = (i + 1) * self.batch_size\n",
    "            batch.append(range(s, f))\n",
    "            \n",
    "        s = (self.n_batch - 1) * self.batch_size\n",
    "        f = s2\n",
    "        \n",
    "        batch.append(range(s, f))\n",
    "        \n",
    "        for i in range(self.n_iteration):\n",
    "            l = 0\n",
    "            \n",
    "            for j in range(self.n_batch):\n",
    "                \n",
    "                x_t = x[batch[j]]\n",
    "                y_tn = y[batch[j]]\n",
    "                s = x_t.shape[0]\n",
    "                al = np.matmul(x_t, self.w) + self.b\n",
    "                \n",
    "                diff = al - y_t\n",
    "                loss = 0.5 * np.matmul(diff.T, diff) + 1/2 * self.C * np.sum(np.square(self.w))\n",
    "                \n",
    "                dd = np.average(al - y_t)\n",
    "                g_w = self.C * self.w + 1. / s *(np.matmul(x_t.T, (al - y_t))) \n",
    "                g_b = dd\n",
    "                \n",
    "                self.w = self.w - self.lr * g_w\n",
    "                self.b = self.b - self.lr * g_b\n",
    "                \n",
    "                l = l + loss\n",
    "            l = l / s2\n",
    "        \n",
    "        return\n",
    "    \n",
    "    def fit(self, x, y):\n",
    "        self.train(x, y)\n",
    "        \n",
    "    def predict(self, x):\n",
    "        res = self.b + np.matmul(x, self.w)\n",
    "        \n",
    "        return res"
   ]
  },
  {
   "cell_type": "code",
   "execution_count": null,
   "metadata": {
    "collapsed": true
   },
   "outputs": [],
   "source": []
  },
  {
   "cell_type": "code",
   "execution_count": null,
   "metadata": {
    "collapsed": true
   },
   "outputs": [],
   "source": [
    "\n",
    "clf1 = linear_regression()\n",
    "clf1.fit(training, labels)"
   ]
  },
  {
   "cell_type": "code",
   "execution_count": 138,
   "metadata": {
    "collapsed": true
   },
   "outputs": [],
   "source": [
    "predict1 = clf1.predict(testing)"
   ]
  },
  {
   "cell_type": "code",
   "execution_count": 328,
   "metadata": {},
   "outputs": [
    {
     "data": {
      "text/plain": [
       "array([3, 3, 2, ..., 2, 2, 3])"
      ]
     },
     "execution_count": 328,
     "metadata": {},
     "output_type": "execute_result"
    }
   ],
   "source": [
    "predict1"
   ]
  },
  {
   "cell_type": "code",
   "execution_count": 139,
   "metadata": {
    "collapsed": true
   },
   "outputs": [],
   "source": [
    "predict1_round = []\n",
    "for i in predict1:\n",
    "    predict1_round.append(int(round(i)))\n",
    "predict1= np.array(predict1_round)"
   ]
  },
  {
   "cell_type": "code",
   "execution_count": 140,
   "metadata": {},
   "outputs": [
    {
     "name": "stderr",
     "output_type": "stream",
     "text": [
      "/Applications/anaconda3/lib/python3.6/site-packages/sklearn/preprocessing/label.py:151: DeprecationWarning: The truth value of an empty array is ambiguous. Returning False, but in future this will result in an error. Use `array.size > 0` to check that an array is not empty.\n",
      "  if diff:\n"
     ]
    }
   ],
   "source": [
    "p1 = encoder.inverse_transform(predict1)\n",
    "bid1 = [str(ind_b[i]) for i in val_data[:, 1]]\n",
    "l1 = np.array([{'Headline': val_data[i, 0], 'Body ID': bid1[i], 'Stance': p1[i]} for i in range(len(val_data))])\n",
    "l2 = np.array([{'Headline': val_data[i, 0], 'Body ID': bid1[i], 'Stance': val_data[i, 2]} for i in range(len(val_data))])"
   ]
  },
  {
   "cell_type": "code",
   "execution_count": 141,
   "metadata": {},
   "outputs": [
    {
     "name": "stdout",
     "output_type": "stream",
     "text": [
      "CONFUSION MATRIX:\n",
      "-------------------------------------------------------------\n",
      "|           |   agree   | disagree  |  discuss  | unrelated |\n",
      "-------------------------------------------------------------\n",
      "|   agree   |     1     |    101    |    264    |     2     |\n",
      "-------------------------------------------------------------\n",
      "| disagree  |     0     |    20     |    62     |     2     |\n",
      "-------------------------------------------------------------\n",
      "|  discuss  |     6     |    202    |    671    |    12     |\n",
      "-------------------------------------------------------------\n",
      "| unrelated |     0     |     4     |    422    |   3229    |\n",
      "-------------------------------------------------------------\n",
      "ACCURACY: 0.785\n",
      "\n",
      "MAX  - the best possible score (100% accuracy)\n",
      "NULL - score as if all predicted stances were unrelated\n",
      "TEST - score based on the provided predictions\n",
      "\n",
      "||    MAX    ||    NULL   ||    TEST   ||\n",
      "||  2256.75  ||  913.75   ||  1658.0   ||\n",
      "\n"
     ]
    }
   ],
   "source": [
    "from scorer import score_submission, print_confusion_matrix, score_defaults, SCORE_REPORT\n",
    "test_score1, cm1 = score_submission(l2, l1)\n",
    "null_score1, max_score1 = score_defaults(l2)\n",
    "print_confusion_matrix(cm1)\n",
    "print(SCORE_REPORT.format(max_score1, null_score1, test_score1))"
   ]
  },
  {
   "cell_type": "code",
   "execution_count": null,
   "metadata": {
    "collapsed": true
   },
   "outputs": [],
   "source": []
  },
  {
   "cell_type": "markdown",
   "metadata": {},
   "source": [
    "### Analyse the performance of your models using the test set"
   ]
  },
  {
   "cell_type": "code",
   "execution_count": null,
   "metadata": {
    "collapsed": true
   },
   "outputs": [],
   "source": [
    "#process test data"
   ]
  },
  {
   "cell_type": "code",
   "execution_count": 142,
   "metadata": {},
   "outputs": [
    {
     "name": "stderr",
     "output_type": "stream",
     "text": [
      "  0%|          | 21/25413 [00:00<08:48, 48.03it/s]/Applications/anaconda3/lib/python3.6/site-packages/ipykernel_launcher.py:15: RuntimeWarning: invalid value encountered in true_divide\n",
      "  from ipykernel import kernelapp as app\n",
      "100%|██████████| 25413/25413 [05:24<00:00, 78.24it/s]\n"
     ]
    }
   ],
   "source": [
    "# test set features\n",
    "competition_test = np.array([make_features(d) for d in tqdm(test_data)])"
   ]
  },
  {
   "cell_type": "code",
   "execution_count": 204,
   "metadata": {},
   "outputs": [
    {
     "data": {
      "text/plain": [
       "(25413, 3)"
      ]
     },
     "execution_count": 204,
     "metadata": {},
     "output_type": "execute_result"
    }
   ],
   "source": [
    "competition_test.shape"
   ]
  },
  {
   "cell_type": "code",
   "execution_count": 194,
   "metadata": {
    "collapsed": true
   },
   "outputs": [],
   "source": [
    "# remove data include nan\n",
    "nanlist = np.where(np.isnan(competition_test))\n",
    "#list(nanlist[0])\n",
    "competition_test = np.delete(competition_test, list(nanlist[0]) ,axis = 0)\n"
   ]
  },
  {
   "cell_type": "code",
   "execution_count": 329,
   "metadata": {},
   "outputs": [
    {
     "data": {
      "text/plain": [
       "False"
      ]
     },
     "execution_count": 329,
     "metadata": {},
     "output_type": "execute_result"
    }
   ],
   "source": [
    "np.isnan(competition_test).any()"
   ]
  },
  {
   "cell_type": "code",
   "execution_count": 330,
   "metadata": {},
   "outputs": [
    {
     "data": {
      "text/plain": [
       "(25370, 3)"
      ]
     },
     "execution_count": 330,
     "metadata": {},
     "output_type": "execute_result"
    }
   ],
   "source": [
    "competition_test.shape"
   ]
  },
  {
   "cell_type": "code",
   "execution_count": null,
   "metadata": {
    "collapsed": true
   },
   "outputs": [],
   "source": []
  },
  {
   "cell_type": "code",
   "execution_count": 215,
   "metadata": {},
   "outputs": [
    {
     "data": {
      "text/plain": [
       "(25413, 3)"
      ]
     },
     "execution_count": 215,
     "metadata": {},
     "output_type": "execute_result"
    }
   ],
   "source": [
    "test_data.shape"
   ]
  },
  {
   "cell_type": "code",
   "execution_count": 216,
   "metadata": {
    "collapsed": true
   },
   "outputs": [],
   "source": [
    "test_data = np.delete(test_data, list(nanlist[0]) ,axis = 0)"
   ]
  },
  {
   "cell_type": "code",
   "execution_count": 217,
   "metadata": {},
   "outputs": [
    {
     "data": {
      "text/plain": [
       "(25370, 3)"
      ]
     },
     "execution_count": 217,
     "metadata": {},
     "output_type": "execute_result"
    }
   ],
   "source": [
    "test_data.shape"
   ]
  },
  {
   "cell_type": "code",
   "execution_count": null,
   "metadata": {
    "collapsed": true
   },
   "outputs": [],
   "source": []
  },
  {
   "cell_type": "code",
   "execution_count": null,
   "metadata": {
    "collapsed": true
   },
   "outputs": [],
   "source": [
    "# Logistic"
   ]
  },
  {
   "cell_type": "code",
   "execution_count": 210,
   "metadata": {
    "collapsed": true
   },
   "outputs": [],
   "source": [
    "testpredict2 = clf.predict(competition_test)"
   ]
  },
  {
   "cell_type": "code",
   "execution_count": 223,
   "metadata": {},
   "outputs": [
    {
     "name": "stderr",
     "output_type": "stream",
     "text": [
      "/Applications/anaconda3/lib/python3.6/site-packages/sklearn/preprocessing/label.py:151: DeprecationWarning: The truth value of an empty array is ambiguous. Returning False, but in future this will result in an error. Use `array.size > 0` to check that an array is not empty.\n",
      "  if diff:\n"
     ]
    }
   ],
   "source": [
    "tp = encoder.inverse_transform(testpredict2)\n",
    "bid_t = [str(test_ind_b [i]) for i in test_data[:, 1]]\n",
    "tn1 = np.array([{'Headline': test_data[i, 0], 'Body ID': bid_t[i], 'Stance': tp[i]} for i in range(len(test_data))])\n",
    "tn2 = np.array([{'Headline': test_data[i, 0], 'Body ID': bid_t[i], 'Stance': test_data[i, 2]} for i in range(len(test_data))])"
   ]
  },
  {
   "cell_type": "code",
   "execution_count": 224,
   "metadata": {},
   "outputs": [
    {
     "name": "stdout",
     "output_type": "stream",
     "text": [
      "CONFUSION MATRIX:\n",
      "-------------------------------------------------------------\n",
      "|           |   agree   | disagree  |  discuss  | unrelated |\n",
      "-------------------------------------------------------------\n",
      "|   agree   |     6     |     0     |   1668    |    229    |\n",
      "-------------------------------------------------------------\n",
      "| disagree  |     0     |     0     |    517    |    180    |\n",
      "-------------------------------------------------------------\n",
      "|  discuss  |    16     |     0     |   3944    |    488    |\n",
      "-------------------------------------------------------------\n",
      "| unrelated |     5     |     0     |    298    |   18019   |\n",
      "-------------------------------------------------------------\n",
      "ACCURACY: 0.866\n",
      "\n",
      "MAX  - the best possible score (100% accuracy)\n",
      "NULL - score as if all predicted stances were unrelated\n",
      "TEST - score based on the provided predictions\n",
      "\n",
      "||    MAX    ||    NULL   ||    TEST   ||\n",
      "||  11628.5  ||  4580.5   ||  9005.0   ||\n",
      "\n"
     ]
    }
   ],
   "source": [
    "from scorer import score_submission, print_confusion_matrix, score_defaults, SCORE_REPORT\n",
    "test_score, cm = score_submission(tn2, tn1)\n",
    "null_score, max_score = score_defaults(tn2)\n",
    "print_confusion_matrix(cm)\n",
    "print(SCORE_REPORT.format(max_score, null_score, test_score))"
   ]
  },
  {
   "cell_type": "code",
   "execution_count": null,
   "metadata": {
    "collapsed": true
   },
   "outputs": [],
   "source": []
  },
  {
   "cell_type": "code",
   "execution_count": null,
   "metadata": {
    "collapsed": true
   },
   "outputs": [],
   "source": []
  },
  {
   "cell_type": "code",
   "execution_count": null,
   "metadata": {
    "collapsed": true
   },
   "outputs": [],
   "source": [
    "# Linear"
   ]
  },
  {
   "cell_type": "code",
   "execution_count": 225,
   "metadata": {
    "collapsed": true
   },
   "outputs": [],
   "source": [
    "testpredict1 = clf1.predict(competition_test)"
   ]
  },
  {
   "cell_type": "code",
   "execution_count": 227,
   "metadata": {
    "collapsed": true
   },
   "outputs": [],
   "source": [
    "testpredict1_round = []\n",
    "for i in testpredict1:\n",
    "    testpredict1_round.append(int(round(i)))\n",
    "testpredict1 = np.array(testpredict1_round)"
   ]
  },
  {
   "cell_type": "code",
   "execution_count": null,
   "metadata": {
    "collapsed": true
   },
   "outputs": [],
   "source": []
  },
  {
   "cell_type": "code",
   "execution_count": 234,
   "metadata": {
    "collapsed": true
   },
   "outputs": [],
   "source": [
    "#There are some results not in list [0,1,2,3], we need to process them\n",
    "a = [0,1,2,3]\n",
    "for i in range(testpredict1.shape[0]):\n",
    "    if testpredict1[i] not in a:\n",
    "        testpredict1[i] = 3"
   ]
  },
  {
   "cell_type": "code",
   "execution_count": 332,
   "metadata": {},
   "outputs": [
    {
     "data": {
      "text/plain": [
       "25370"
      ]
     },
     "execution_count": 332,
     "metadata": {},
     "output_type": "execute_result"
    }
   ],
   "source": [
    "testpredict1.shape[0]"
   ]
  },
  {
   "cell_type": "code",
   "execution_count": null,
   "metadata": {
    "collapsed": true
   },
   "outputs": [],
   "source": []
  },
  {
   "cell_type": "code",
   "execution_count": 235,
   "metadata": {},
   "outputs": [
    {
     "name": "stderr",
     "output_type": "stream",
     "text": [
      "/Applications/anaconda3/lib/python3.6/site-packages/sklearn/preprocessing/label.py:151: DeprecationWarning: The truth value of an empty array is ambiguous. Returning False, but in future this will result in an error. Use `array.size > 0` to check that an array is not empty.\n",
      "  if diff:\n"
     ]
    }
   ],
   "source": [
    "tp1 = encoder.inverse_transform(testpredict1)\n",
    "bid_t = [str(test_ind_b [i]) for i in test_data[:, 1]]\n",
    "tl1 = np.array([{'Headline': test_data[i, 0], 'Body ID': bid_t[i], 'Stance': tp1[i]} for i in range(len(test_data))])\n",
    "tl2 = np.array([{'Headline': test_data[i, 0], 'Body ID': bid_t[i], 'Stance': test_data[i, 2]} for i in range(len(test_data))])"
   ]
  },
  {
   "cell_type": "code",
   "execution_count": 309,
   "metadata": {},
   "outputs": [
    {
     "name": "stdout",
     "output_type": "stream",
     "text": [
      "CONFUSION MATRIX:\n",
      "-------------------------------------------------------------\n",
      "|           |   agree   | disagree  |  discuss  | unrelated |\n",
      "-------------------------------------------------------------\n",
      "|   agree   |     9     |    354    |   1487    |    53     |\n",
      "-------------------------------------------------------------\n",
      "| disagree  |     0     |    85     |    564    |    48     |\n",
      "-------------------------------------------------------------\n",
      "|  discuss  |    37     |   1062    |   3251    |    98     |\n",
      "-------------------------------------------------------------\n",
      "| unrelated |     0     |    15     |   1731    |   16576   |\n",
      "-------------------------------------------------------------\n",
      "ACCURACY: 0.785\n",
      "\n",
      "MAX  - the best possible score (100% accuracy)\n",
      "NULL - score as if all predicted stances were unrelated\n",
      "TEST - score based on the provided predictions\n",
      "\n",
      "||    MAX    ||    NULL   ||    TEST   ||\n",
      "||  11628.5  ||  4580.5   ||  8365.0   ||\n",
      "\n"
     ]
    }
   ],
   "source": [
    "from scorer import score_submission, print_confusion_matrix, score_defaults, SCORE_REPORT\n",
    "test_score, cm = score_submission(tl2, tl1)\n",
    "null_score, max_score = score_defaults(tl2)\n",
    "print_confusion_matrix(cm)\n",
    "print(SCORE_REPORT.format(max_score, null_score, test_score))"
   ]
  },
  {
   "cell_type": "code",
   "execution_count": null,
   "metadata": {
    "collapsed": true
   },
   "outputs": [],
   "source": []
  },
  {
   "cell_type": "markdown",
   "metadata": {},
   "source": [
    "### Neural Network Model\n"
   ]
  },
  {
   "cell_type": "code",
   "execution_count": 58,
   "metadata": {},
   "outputs": [
    {
     "name": "stderr",
     "output_type": "stream",
     "text": [
      "/Applications/anaconda3/lib/python3.6/site-packages/h5py/__init__.py:34: FutureWarning: Conversion of the second argument of issubdtype from `float` to `np.floating` is deprecated. In future, it will be treated as `np.float64 == np.dtype(float).type`.\n",
      "  from ._conv import register_converters as _register_converters\n",
      "Using TensorFlow backend.\n"
     ]
    }
   ],
   "source": [
    "from keras.models import Sequential\n",
    "from keras.layers.core import Dense, Dropout, Activation\n",
    "from keras.optimizers import Adam"
   ]
  },
  {
   "cell_type": "code",
   "execution_count": 243,
   "metadata": {},
   "outputs": [
    {
     "data": {
      "text/plain": [
       "(25370, 3)"
      ]
     },
     "execution_count": 243,
     "metadata": {},
     "output_type": "execute_result"
    }
   ],
   "source": [
    "competition_test.shape"
   ]
  },
  {
   "cell_type": "code",
   "execution_count": 255,
   "metadata": {},
   "outputs": [
    {
     "data": {
      "text/plain": [
       "(44974,)"
      ]
     },
     "execution_count": 255,
     "metadata": {},
     "output_type": "execute_result"
    }
   ],
   "source": [
    "labels.shape"
   ]
  },
  {
   "cell_type": "code",
   "execution_count": 248,
   "metadata": {
    "collapsed": true
   },
   "outputs": [],
   "source": [
    "# transfer label into 4 dimensional vector which can be used in neural network"
   ]
  },
  {
   "cell_type": "code",
   "execution_count": 252,
   "metadata": {
    "collapsed": true
   },
   "outputs": [],
   "source": [
    "y = np.zeros((labels.shape[0],4))\n",
    "for i in range(labels.shape[0]):\n",
    "    index = labels[i]\n",
    "    y[i][index] = 1"
   ]
  },
  {
   "cell_type": "code",
   "execution_count": 253,
   "metadata": {},
   "outputs": [
    {
     "data": {
      "text/plain": [
       "array([[0., 0., 0., 1.],\n",
       "       [0., 0., 0., 1.],\n",
       "       [0., 0., 0., 1.],\n",
       "       ...,\n",
       "       [1., 0., 0., 0.],\n",
       "       [0., 0., 0., 1.],\n",
       "       [0., 0., 0., 1.]])"
      ]
     },
     "execution_count": 253,
     "metadata": {},
     "output_type": "execute_result"
    }
   ],
   "source": [
    "y"
   ]
  },
  {
   "cell_type": "code",
   "execution_count": null,
   "metadata": {
    "collapsed": true
   },
   "outputs": [],
   "source": []
  },
  {
   "cell_type": "code",
   "execution_count": 59,
   "metadata": {},
   "outputs": [
    {
     "name": "stdout",
     "output_type": "stream",
     "text": [
      "_________________________________________________________________\n",
      "Layer (type)                 Output Shape              Param #   \n",
      "=================================================================\n",
      "dense_1 (Dense)              (None, 128)               512       \n",
      "_________________________________________________________________\n",
      "activation_1 (Activation)    (None, 128)               0         \n",
      "_________________________________________________________________\n",
      "dropout_1 (Dropout)          (None, 128)               0         \n",
      "_________________________________________________________________\n",
      "dense_2 (Dense)              (None, 64)                8256      \n",
      "_________________________________________________________________\n",
      "activation_2 (Activation)    (None, 64)                0         \n",
      "_________________________________________________________________\n",
      "dropout_2 (Dropout)          (None, 64)                0         \n",
      "_________________________________________________________________\n",
      "dense_3 (Dense)              (None, 4)                 260       \n",
      "_________________________________________________________________\n",
      "activation_3 (Activation)    (None, 4)                 0         \n",
      "=================================================================\n",
      "Total params: 9,028\n",
      "Trainable params: 9,028\n",
      "Non-trainable params: 0\n",
      "_________________________________________________________________\n"
     ]
    }
   ],
   "source": [
    "# construct and train NN model \n",
    "model = Sequential()\n",
    "\n",
    "model.add(Dense(128, input_dim = 3))\n",
    "model.add(Activation('relu'))\n",
    "model.add(Dropout(0.7))\n",
    "\n",
    "model.add(Dense(64))\n",
    "model.add(Activation('relu'))\n",
    "model.add(Dropout(0.5))\n",
    "\n",
    "model.add(Dense(4))\n",
    "model.add(Activation('softmax'))\n",
    "\n",
    "#complie\n",
    "model.compile(loss='categorical_crossentropy', metrics=['acc'], optimizer='Adam')\n",
    "model.summary()\n"
   ]
  },
  {
   "cell_type": "code",
   "execution_count": 318,
   "metadata": {
    "collapsed": true
   },
   "outputs": [],
   "source": [
    "nn_predict = model.predict(competition_test)"
   ]
  },
  {
   "cell_type": "code",
   "execution_count": 319,
   "metadata": {},
   "outputs": [
    {
     "data": {
      "text/plain": [
       "(25370, 4)"
      ]
     },
     "execution_count": 319,
     "metadata": {},
     "output_type": "execute_result"
    }
   ],
   "source": [
    "nn_predict.shape"
   ]
  },
  {
   "cell_type": "code",
   "execution_count": null,
   "metadata": {
    "collapsed": true
   },
   "outputs": [],
   "source": [
    "# transfer 4 dimensional results into 1 dimensional results"
   ]
  },
  {
   "cell_type": "code",
   "execution_count": 320,
   "metadata": {
    "collapsed": true
   },
   "outputs": [],
   "source": [
    "nn_prediction = []\n",
    "\n",
    "for i in range(nn_predict.shape[0]):\n",
    "    nn_prediction.append(int(np.argmax(nn_predict[i])))\n",
    "    \n",
    "nn_p = np.array(nn_prediction)"
   ]
  },
  {
   "cell_type": "code",
   "execution_count": null,
   "metadata": {
    "collapsed": true
   },
   "outputs": [],
   "source": []
  },
  {
   "cell_type": "code",
   "execution_count": 322,
   "metadata": {},
   "outputs": [
    {
     "name": "stderr",
     "output_type": "stream",
     "text": [
      "/Applications/anaconda3/lib/python3.6/site-packages/sklearn/preprocessing/label.py:151: DeprecationWarning: The truth value of an empty array is ambiguous. Returning False, but in future this will result in an error. Use `array.size > 0` to check that an array is not empty.\n",
      "  if diff:\n"
     ]
    }
   ],
   "source": [
    "nnp = encoder.inverse_transform(nn_p)\n",
    "bid_nn = [str(test_ind_b [i]) for i in test_data[:, 1]]\n",
    "nn_n1 = np.array([{'Headline': test_data[i, 0], 'Body ID': bid_nn[i], 'Stance': nnp[i]} for i in range(len(test_data))])\n",
    "nn_n2 = np.array([{'Headline': test_data[i, 0], 'Body ID': bid_nn[i], 'Stance': test_data[i, 2]} for i in range(len(test_data))])"
   ]
  },
  {
   "cell_type": "code",
   "execution_count": 323,
   "metadata": {},
   "outputs": [
    {
     "name": "stdout",
     "output_type": "stream",
     "text": [
      "CONFUSION MATRIX:\n",
      "-------------------------------------------------------------\n",
      "|           |   agree   | disagree  |  discuss  | unrelated |\n",
      "-------------------------------------------------------------\n",
      "|   agree   |     0     |     0     |   1696    |    207    |\n",
      "-------------------------------------------------------------\n",
      "| disagree  |     0     |     0     |    526    |    171    |\n",
      "-------------------------------------------------------------\n",
      "|  discuss  |     0     |     0     |   4015    |    433    |\n",
      "-------------------------------------------------------------\n",
      "| unrelated |     0     |     0     |    339    |   17983   |\n",
      "-------------------------------------------------------------\n",
      "ACCURACY: 0.867\n",
      "\n",
      "MAX  - the best possible score (100% accuracy)\n",
      "NULL - score as if all predicted stances were unrelated\n",
      "TEST - score based on the provided predictions\n",
      "\n",
      "||    MAX    ||    NULL   ||    TEST   ||\n",
      "||  11628.5  ||  4580.5   ||  9066.25  ||\n",
      "\n"
     ]
    }
   ],
   "source": [
    "test_score, cm = score_submission(nn_n2, nn_n1)\n",
    "null_score, max_score = score_defaults(nn_n2)\n",
    "print_confusion_matrix(cm)\n",
    "print(SCORE_REPORT.format(max_score, null_score, test_score))"
   ]
  },
  {
   "cell_type": "code",
   "execution_count": null,
   "metadata": {
    "collapsed": true
   },
   "outputs": [],
   "source": []
  },
  {
   "cell_type": "code",
   "execution_count": null,
   "metadata": {
    "collapsed": true
   },
   "outputs": [],
   "source": []
  },
  {
   "cell_type": "code",
   "execution_count": null,
   "metadata": {
    "collapsed": true
   },
   "outputs": [],
   "source": []
  },
  {
   "cell_type": "code",
   "execution_count": null,
   "metadata": {
    "collapsed": true
   },
   "outputs": [],
   "source": []
  },
  {
   "cell_type": "code",
   "execution_count": null,
   "metadata": {
    "collapsed": true
   },
   "outputs": [],
   "source": []
  }
 ],
 "metadata": {
  "kernelspec": {
   "display_name": "Python 3",
   "language": "python",
   "name": "python3"
  },
  "language_info": {
   "codemirror_mode": {
    "name": "ipython",
    "version": 3
   },
   "file_extension": ".py",
   "mimetype": "text/x-python",
   "name": "python",
   "nbconvert_exporter": "python",
   "pygments_lexer": "ipython3",
   "version": "3.6.3"
  }
 },
 "nbformat": 4,
 "nbformat_minor": 2
}
